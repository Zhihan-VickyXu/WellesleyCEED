{
 "cells": [
  {
   "cell_type": "code",
   "execution_count": 41,
   "id": "4d180f21",
   "metadata": {},
   "outputs": [],
   "source": [
    "# setup\n",
    "import pandas as pd\n",
    "\n",
    "import selenium\n",
    "from selenium import webdriver\n",
    "from selenium.webdriver.common.keys import Keys\n",
    "from selenium.webdriver.chrome.service import Service\n",
    "from selenium.webdriver.common.by import By\n",
    "\n",
    "import time\n",
    "from bs4 import BeautifulSoup\n",
    "import requests\n",
    "#driverpath ='driver/chromedriver.exe'\n",
    "#chrome_options = webdriver.ChromeOptions()"
   ]
  },
  {
   "cell_type": "markdown",
   "id": "2aa73b2d",
   "metadata": {},
   "source": [
    "## Scraping WIRED.com"
   ]
  },
  {
   "cell_type": "code",
   "execution_count": 42,
   "id": "c2272d14",
   "metadata": {},
   "outputs": [],
   "source": [
    "url = 'https://www.wired.com/'\n",
    "prompt = 'ChatGPT'"
   ]
  },
  {
   "cell_type": "code",
   "execution_count": 49,
   "id": "3340c8d4",
   "metadata": {},
   "outputs": [],
   "source": [
    "# open url\n",
    "driver = webdriver.Chrome()\n",
    "driver.get('https://www.wired.com/')\n",
    "# search icon xpath: //*[@id=\"app-root\"]/div/div[4]/header/a\n",
    "search_icon = driver.find_element(By.XPATH, \"//*[@id=\\\"app-root\\\"]/div/div[4]/header/a\")\n",
    "search_icon.click() \n",
    "# search box xpath: //*[@id=\"search-text-field-q\"]\n",
    "search_box = driver.find_element(By.XPATH, \"//*[@id=\\\"search-text-field-q\\\"]\")\n",
    "search_box.click() \n",
    "search_box.send_keys(prompt) \n",
    "# search box submit button xpath: //*[@id=\"main-content\"]/div[1]/form/div/div[1]/span/button\n",
    "submit_button = driver.find_element(By.XPATH, \"//*[@id=\\\"main-content\\\"]/div[1]/form/div/div[1]/span/button\")\n",
    "submit_button.click()  "
   ]
  },
  {
   "cell_type": "code",
   "execution_count": null,
   "id": "f912cbb3",
   "metadata": {},
   "outputs": [],
   "source": []
  }
 ],
 "metadata": {
  "kernelspec": {
   "display_name": "Python 3 (ipykernel)",
   "language": "python",
   "name": "python3"
  },
  "language_info": {
   "codemirror_mode": {
    "name": "ipython",
    "version": 3
   },
   "file_extension": ".py",
   "mimetype": "text/x-python",
   "name": "python",
   "nbconvert_exporter": "python",
   "pygments_lexer": "ipython3",
   "version": "3.10.9"
  }
 },
 "nbformat": 4,
 "nbformat_minor": 5
}
